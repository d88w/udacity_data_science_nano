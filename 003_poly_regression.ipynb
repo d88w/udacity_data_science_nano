{
 "cells": [
  {
   "cell_type": "code",
   "execution_count": 22,
   "metadata": {},
   "outputs": [],
   "source": [
    "# TODO: Add import statements\n",
    "import numpy as np\n",
    "import pandas as pd\n",
    "from sklearn.linear_model import LinearRegression\n",
    "from sklearn.preprocessing import PolynomialFeatures"
   ]
  },
  {
   "cell_type": "code",
   "execution_count": 23,
   "metadata": {},
   "outputs": [
    {
     "name": "stdout",
     "output_type": "stream",
     "text": [
      "X\n",
      "      Var_X\n",
      "0  -0.33532\n",
      "1   0.02160\n",
      "2  -1.19438\n",
      "3  -0.65046\n",
      "4  -0.28001\n",
      "5   1.93258\n",
      "6   1.22620\n",
      "7   0.74727\n",
      "8   3.32853\n",
      "9   2.87457\n",
      "10 -1.48662\n",
      "11  0.37629\n",
      "12  1.43918\n",
      "13  0.24183\n",
      "14 -2.79140\n",
      "15  1.08176\n",
      "16  2.81555\n",
      "17  0.54924\n",
      "18  2.36449\n",
      "19 -1.01925\n",
      "\n",
      "Y\n",
      "       Var_Y\n",
      "0    6.66854\n",
      "1    3.86398\n",
      "2    5.16161\n",
      "3    8.43823\n",
      "4    5.57201\n",
      "5  -11.13270\n",
      "6   -5.31226\n",
      "7   -4.63725\n",
      "8    3.80650\n",
      "9   -6.06084\n",
      "10   7.22328\n",
      "11   2.38887\n",
      "12  -7.13415\n",
      "13   2.00412\n",
      "14   4.29794\n",
      "15  -5.86553\n",
      "16  -5.20711\n",
      "17  -3.52863\n",
      "18 -10.16202\n",
      "19   5.31123\n"
     ]
    }
   ],
   "source": [
    "# Assign the data to predictor and outcome variables\n",
    "# TODO: Load the data\n",
    "train_data = pd.read_csv(\"/Users/derekwang/Desktop/Python/udacity nano degree/poly_data.csv\")\n",
    "X = train_data[['Var_X']]\n",
    "Y = train_data[['Var_Y']]\n",
    "print('X')\n",
    "print(X)\n",
    "print('')\n",
    "print('Y')\n",
    "print(Y)"
   ]
  },
  {
   "cell_type": "code",
   "execution_count": 24,
   "metadata": {},
   "outputs": [
    {
     "name": "stdout",
     "output_type": "stream",
     "text": [
      "X\n",
      "[[-0.33532]\n",
      " [ 0.0216 ]\n",
      " [-1.19438]\n",
      " [-0.65046]\n",
      " [-0.28001]\n",
      " [ 1.93258]\n",
      " [ 1.2262 ]\n",
      " [ 0.74727]\n",
      " [ 3.32853]\n",
      " [ 2.87457]\n",
      " [-1.48662]\n",
      " [ 0.37629]\n",
      " [ 1.43918]\n",
      " [ 0.24183]\n",
      " [-2.7914 ]\n",
      " [ 1.08176]\n",
      " [ 2.81555]\n",
      " [ 0.54924]\n",
      " [ 2.36449]\n",
      " [-1.01925]]\n",
      "\n",
      "y\n",
      "[  6.66854   3.86398   5.16161   8.43823   5.57201 -11.1327   -5.31226\n",
      "  -4.63725   3.8065   -6.06084   7.22328   2.38887  -7.13415   2.00412\n",
      "   4.29794  -5.86553  -5.20711  -3.52863 -10.16202   5.31123]\n"
     ]
    }
   ],
   "source": [
    "#For X, make sure it is in a 2-d array of 20 rows by 1 column. \n",
    "#You might need to use NumPy's reshape function to accomplish this.\n",
    "\n",
    "X = train_data['Var_X'].values.reshape(-1, 1)\n",
    "y = train_data['Var_Y'].values\n",
    "print('X')\n",
    "print(X)\n",
    "print('')\n",
    "print('y')\n",
    "print(y)"
   ]
  },
  {
   "cell_type": "code",
   "execution_count": 25,
   "metadata": {},
   "outputs": [],
   "source": [
    "poly_feat = PolynomialFeatures(degree=5)\n",
    "X_poly = poly_feat.fit_transform(X)"
   ]
  },
  {
   "cell_type": "code",
   "execution_count": 26,
   "metadata": {},
   "outputs": [
    {
     "data": {
      "text/plain": [
       "LinearRegression(copy_X=True, fit_intercept=True, n_jobs=None,\n",
       "         normalize=False)"
      ]
     },
     "execution_count": 26,
     "metadata": {},
     "output_type": "execute_result"
    }
   ],
   "source": [
    "# Make and fit the polynomial regression model\n",
    "# TODO: Create a LinearRegression object and fit it to the polynomial predictor\n",
    "# features\n",
    "poly_model = LinearRegression()\n",
    "poly_model.fit(X_poly,y)"
   ]
  }
 ],
 "metadata": {
  "kernelspec": {
   "display_name": "Python 3",
   "language": "python",
   "name": "python3"
  },
  "language_info": {
   "codemirror_mode": {
    "name": "ipython",
    "version": 3
   },
   "file_extension": ".py",
   "mimetype": "text/x-python",
   "name": "python",
   "nbconvert_exporter": "python",
   "pygments_lexer": "ipython3",
   "version": "3.6.0"
  }
 },
 "nbformat": 4,
 "nbformat_minor": 2
}
